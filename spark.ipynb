{
 "cells": [
  {
   "cell_type": "code",
   "execution_count": 112,
   "metadata": {},
   "outputs": [],
   "source": [
    "from pyspark.ml import Pipeline\n",
    "from pyspark.ml.regression import RandomForestRegressor, LinearRegression\n",
    "from pyspark.ml.feature import VectorIndexer\n",
    "from pyspark.ml.evaluation import RegressionEvaluator\n",
    "from pyspark.mllib.evaluation import RegressionMetrics"
   ]
  },
  {
   "cell_type": "code",
   "execution_count": 80,
   "metadata": {},
   "outputs": [],
   "source": [
    "data = spark.read.format('csv').load('obesity_dummy.csv', inferSchema=True, header=True)"
   ]
  },
  {
   "cell_type": "code",
   "execution_count": 81,
   "metadata": {},
   "outputs": [
    {
     "data": {
      "text/plain": [
       "['_c0',\n",
       " 'age',\n",
       " 'height_rounded',\n",
       " 'weight_rounded',\n",
       " 'bmi',\n",
       " 'veges_freq_Always',\n",
       " 'veges_freq_Never',\n",
       " 'veges_freq_Sometimes',\n",
       " 'main_meals_num_More than 3',\n",
       " 'main_meals_num_One/Two',\n",
       " 'main_meals_num_Three',\n",
       " 'daily_water_consumption_1-2L',\n",
       " 'daily_water_consumption_<1L',\n",
       " 'daily_water_consumption_>2L',\n",
       " 'physical_activity_freq_0 days',\n",
       " 'physical_activity_freq_1-2 days',\n",
       " 'physical_activity_freq_2-4 days',\n",
       " 'physical_activity_freq_4-5 days',\n",
       " 'tech_devices_usage_0-2h',\n",
       " 'tech_devices_usage_3-5h',\n",
       " 'tech_devices_usage_>5h',\n",
       " 'high_kcal_food_no',\n",
       " 'high_kcal_food_yes',\n",
       " 'transport_used_Automobile',\n",
       " 'transport_used_Bike',\n",
       " 'transport_used_Motorbike',\n",
       " 'transport_used_Public_Transportation',\n",
       " 'transport_used_Walking',\n",
       " 'snacks_consuming_Always',\n",
       " 'snacks_consuming_Frequently',\n",
       " 'snacks_consuming_Sometimes',\n",
       " 'snacks_consuming_no',\n",
       " 'smoking_no',\n",
       " 'smoking_yes',\n",
       " 'kcal_monitoring_no',\n",
       " 'kcal_monitoring_yes',\n",
       " 'alcohol_consumption_Always',\n",
       " 'alcohol_consumption_Frequently',\n",
       " 'alcohol_consumption_Sometimes',\n",
       " 'alcohol_consumption_no',\n",
       " 'gender_Female',\n",
       " 'gender_Male']"
      ]
     },
     "execution_count": 81,
     "metadata": {},
     "output_type": "execute_result"
    }
   ],
   "source": [
    "data.columns"
   ]
  },
  {
   "cell_type": "code",
   "execution_count": 82,
   "metadata": {},
   "outputs": [],
   "source": [
    "featureAssembler = VectorAssembler(inputCols=['age',\n",
    " 'veges_freq_Always',\n",
    " 'veges_freq_Never',\n",
    " 'veges_freq_Sometimes',\n",
    " 'main_meals_num_More than 3',\n",
    " 'main_meals_num_One/Two',\n",
    " 'main_meals_num_Three',\n",
    " 'daily_water_consumption_1-2L',\n",
    " 'daily_water_consumption_<1L',\n",
    " 'daily_water_consumption_>2L',\n",
    " 'physical_activity_freq_0 days',\n",
    " 'physical_activity_freq_1-2 days',\n",
    " 'physical_activity_freq_2-4 days',\n",
    " 'physical_activity_freq_4-5 days',\n",
    " 'tech_devices_usage_0-2h',\n",
    " 'tech_devices_usage_3-5h',\n",
    " 'tech_devices_usage_>5h',\n",
    " 'high_kcal_food_no',\n",
    " 'high_kcal_food_yes',\n",
    " 'transport_used_Automobile',\n",
    " 'transport_used_Bike',\n",
    " 'transport_used_Motorbike',\n",
    " 'transport_used_Public_Transportation',\n",
    " 'transport_used_Walking',\n",
    " 'snacks_consuming_Always',\n",
    " 'snacks_consuming_Frequently',\n",
    " 'snacks_consuming_Sometimes',\n",
    " 'snacks_consuming_no',\n",
    " 'smoking_no',\n",
    " 'smoking_yes',\n",
    " 'kcal_monitoring_no',\n",
    " 'kcal_monitoring_yes',\n",
    " 'alcohol_consumption_Always',\n",
    " 'alcohol_consumption_Frequently',\n",
    " 'alcohol_consumption_Sometimes',\n",
    " 'alcohol_consumption_no',\n",
    " 'gender_Female',\n",
    " 'gender_Male'], outputCol='features')"
   ]
  },
  {
   "cell_type": "code",
   "execution_count": 83,
   "metadata": {},
   "outputs": [],
   "source": [
    "output=featureAssembler.transform(data)"
   ]
  },
  {
   "cell_type": "code",
   "execution_count": 84,
   "metadata": {},
   "outputs": [
    {
     "name": "stdout",
     "output_type": "stream",
     "text": [
      "+--------------------+\n",
      "|            features|\n",
      "+--------------------+\n",
      "|(38,[0,3,6,7,10,1...|\n",
      "|(38,[0,1,6,9,12,1...|\n",
      "|(38,[0,3,6,7,13,1...|\n",
      "|(38,[0,1,6,7,13,1...|\n",
      "|(38,[0,3,5,7,10,1...|\n",
      "|(38,[0,3,6,7,10,1...|\n",
      "|(38,[0,1,6,7,11,1...|\n",
      "|(38,[0,3,6,7,12,1...|\n",
      "|(38,[0,1,6,7,11,1...|\n",
      "|(38,[0,3,6,7,11,1...|\n",
      "|(38,[0,1,6,9,13,1...|\n",
      "|(38,[0,3,6,7,13,1...|\n",
      "|(38,[0,1,6,9,13,1...|\n",
      "|(38,[0,3,6,7,13,1...|\n",
      "|(38,[0,1,5,8,11,1...|\n",
      "|(38,[0,1,6,7,13,1...|\n",
      "|(38,[0,3,5,8,11,1...|\n",
      "|(38,[0,3,5,7,10,1...|\n",
      "|(38,[0,1,4,8,10,1...|\n",
      "|(38,[0,3,5,7,10,1...|\n",
      "+--------------------+\n",
      "only showing top 20 rows\n",
      "\n"
     ]
    }
   ],
   "source": [
    "output.select(\"features\").show()"
   ]
  },
  {
   "cell_type": "code",
   "execution_count": 85,
   "metadata": {},
   "outputs": [
    {
     "name": "stdout",
     "output_type": "stream",
     "text": [
      "+--------------------+------------------+\n",
      "|            features|               bmi|\n",
      "+--------------------+------------------+\n",
      "|(38,[0,3,6,7,10,1...|19.753086419753085|\n",
      "|(38,[0,1,6,9,12,1...| 18.42105263157895|\n",
      "|(38,[0,3,6,7,13,1...| 21.38888888888889|\n",
      "|(38,[0,1,6,7,13,1...|24.166666666666664|\n",
      "|(38,[0,3,5,7,10,1...|25.224719101123597|\n",
      "|(38,[0,3,6,7,10,1...|16.358024691358022|\n",
      "|(38,[0,1,6,7,11,1...| 18.33333333333333|\n",
      "|(38,[0,3,6,7,12,1...|16.158536585365855|\n",
      "|(38,[0,1,6,7,11,1...| 17.97752808988764|\n",
      "|(38,[0,3,6,7,11,1...|19.767441860465123|\n",
      "|(38,[0,1,6,9,13,1...|28.378378378378372|\n",
      "|(38,[0,3,6,7,13,1...|23.255813953488367|\n",
      "|(38,[0,1,6,9,13,1...| 16.96969696969697|\n",
      "|(38,[0,3,6,7,13,1...|              27.5|\n",
      "|(38,[0,1,5,8,11,1...|16.949152542372882|\n",
      "|(38,[0,1,6,7,13,1...|19.411764705882355|\n",
      "|(38,[0,3,5,8,11,1...|26.424870466321245|\n",
      "|(38,[0,3,5,7,10,1...|25.490196078431374|\n",
      "|(38,[0,1,4,8,10,1...|23.976608187134506|\n",
      "|(38,[0,3,5,7,10,1...| 21.21212121212121|\n",
      "+--------------------+------------------+\n",
      "only showing top 20 rows\n",
      "\n"
     ]
    }
   ],
   "source": [
    "final_data = output.select('features', 'bmi')\n",
    "final_data.show()"
   ]
  },
  {
   "cell_type": "code",
   "execution_count": 86,
   "metadata": {},
   "outputs": [],
   "source": [
    "train_data, test_data = final_data.randomSplit([0.8,0.2])"
   ]
  },
  {
   "cell_type": "code",
   "execution_count": 87,
   "metadata": {},
   "outputs": [],
   "source": [
    "regressor=LinearRegression(featuresCol='features', labelCol='bmi')\n",
    "regressor=regressor.fit(train_data)"
   ]
  },
  {
   "cell_type": "code",
   "execution_count": 88,
   "metadata": {},
   "outputs": [
    {
     "data": {
      "text/plain": [
       "DenseVector([0.31, 1.738, -1.3919, -1.4819, -2.5566, -0.858, 1.4872, -0.0859, -1.3125, 1.3937, 0.3895, 0.1536, -1.9568, -0.1296, -0.2269, 0.705, -1.1645, -1.645, 1.645, -1.7624, -2.427, 1.1122, 1.6406, -0.2302, -0.6924, -3.7609, 3.0344, -0.869, -0.3011, 0.3011, 1.508, -1.508, 4.9517, -0.6655, 0.7581, -0.7106, -0.8507, 0.8507])"
      ]
     },
     "execution_count": 88,
     "metadata": {},
     "output_type": "execute_result"
    }
   ],
   "source": [
    "regressor.coefficients"
   ]
  },
  {
   "cell_type": "code",
   "execution_count": 89,
   "metadata": {},
   "outputs": [
    {
     "data": {
      "text/plain": [
       "11.380997499904256"
      ]
     },
     "execution_count": 89,
     "metadata": {},
     "output_type": "execute_result"
    }
   ],
   "source": [
    "regressor.intercept"
   ]
  },
  {
   "cell_type": "code",
   "execution_count": 90,
   "metadata": {},
   "outputs": [],
   "source": [
    "pred_results=regressor.evaluate(test_data)"
   ]
  },
  {
   "cell_type": "code",
   "execution_count": 91,
   "metadata": {},
   "outputs": [
    {
     "name": "stdout",
     "output_type": "stream",
     "text": [
      "+--------------------+------------------+------------------+\n",
      "|            features|               bmi|        prediction|\n",
      "+--------------------+------------------+------------------+\n",
      "|(38,[0,1,4,7,10,1...|14.792899408284025| 20.65955818778487|\n",
      "|(38,[0,1,4,7,10,1...|17.714285714285715| 20.09183465401273|\n",
      "|(38,[0,1,4,7,10,1...|15.121301775147927|17.561344262091495|\n",
      "|(38,[0,1,4,7,13,1...|22.279792746113987|15.948023202171772|\n",
      "|(38,[0,1,4,7,13,1...|16.095628415300546|19.963945544878637|\n",
      "|(38,[0,1,4,7,13,1...|16.216216216216214|19.963945544878637|\n",
      "|(38,[0,1,4,7,13,1...|16.304347826086953|19.963945544878637|\n",
      "|(38,[0,1,4,7,13,1...|16.670391061452513|19.963945544878637|\n",
      "|(38,[0,1,4,7,13,1...|23.795580110497237|25.455690463058634|\n",
      "|(38,[0,1,4,7,13,1...|14.892215568862277|14.600872339231124|\n",
      "|(38,[0,1,4,7,13,1...|16.016304347826086| 20.89584381765748|\n",
      "|(38,[0,1,4,7,13,1...|14.267241379310345|24.686231904006796|\n",
      "|(38,[0,1,4,8,10,1...|23.976608187134506|15.082210617755473|\n",
      "|(38,[0,1,4,8,13,1...| 28.52760736196319|15.592168239176782|\n",
      "|(38,[0,1,4,8,13,1...|             31.75|28.340478361653133|\n",
      "|(38,[0,1,4,8,13,1...|30.858024691358022| 25.24226443595976|\n",
      "|(38,[0,1,4,9,11,1...|16.556756756756755|23.815576332691656|\n",
      "|(38,[0,1,5,7,10,1...|            21.875|27.219292909193207|\n",
      "|(38,[0,1,5,7,10,1...| 25.15337423312884|26.902166768528396|\n",
      "|(38,[0,1,5,7,10,1...|13.503205128205128|24.193382016200676|\n",
      "+--------------------+------------------+------------------+\n",
      "only showing top 20 rows\n",
      "\n"
     ]
    }
   ],
   "source": [
    "pred_results.predictions.show()"
   ]
  },
  {
   "cell_type": "code",
   "execution_count": 109,
   "metadata": {},
   "outputs": [
    {
     "data": {
      "text/plain": [
       "4.730916683657211"
      ]
     },
     "execution_count": 109,
     "metadata": {},
     "output_type": "execute_result"
    }
   ],
   "source": [
    "evaluator = RegressionEvaluator(\n",
    "    labelCol=\"bmi\", predictionCol=\"prediction\", metricName=\"mae\")\n",
    "mae = evaluator.evaluate(pred_results.predictions)\n",
    "mae"
   ]
  },
  {
   "cell_type": "code",
   "execution_count": 95,
   "metadata": {},
   "outputs": [],
   "source": [
    "rf = RandomForestRegressor(featuresCol=\"features\", labelCol='bmi')\n",
    "# pipeline = Pipeline(stages=[featureAssembler, rf])\n",
    "model = rf.fit(train_data)"
   ]
  },
  {
   "cell_type": "code",
   "execution_count": 98,
   "metadata": {},
   "outputs": [],
   "source": [
    "predictions = model.transform(test_data)"
   ]
  },
  {
   "cell_type": "code",
   "execution_count": 99,
   "metadata": {},
   "outputs": [
    {
     "name": "stdout",
     "output_type": "stream",
     "text": [
      "+--------------------+------------------+------------------+\n",
      "|            features|               bmi|        prediction|\n",
      "+--------------------+------------------+------------------+\n",
      "|(38,[0,1,4,7,10,1...|14.792899408284025|15.849775807434076|\n",
      "|(38,[0,1,4,7,10,1...|17.714285714285715|19.970701413526378|\n",
      "|(38,[0,1,4,7,10,1...|15.121301775147927|15.577258864280656|\n",
      "|(38,[0,1,4,7,13,1...|22.279792746113987|20.831729926846144|\n",
      "|(38,[0,1,4,7,13,1...|16.095628415300546|18.183141695699895|\n",
      "|(38,[0,1,4,7,13,1...|16.216216216216214|18.183141695699895|\n",
      "|(38,[0,1,4,7,13,1...|16.304347826086953|18.183141695699895|\n",
      "|(38,[0,1,4,7,13,1...|16.670391061452513|18.183141695699895|\n",
      "|(38,[0,1,4,7,13,1...|23.795580110497237|23.371598391284408|\n",
      "|(38,[0,1,4,7,13,1...|14.892215568862277| 15.92640199387299|\n",
      "|(38,[0,1,4,7,13,1...|16.016304347826086|18.487388216018253|\n",
      "|(38,[0,1,4,7,13,1...|14.267241379310345|23.230104490979937|\n",
      "|(38,[0,1,4,8,10,1...|23.976608187134506|17.837775767925613|\n",
      "|(38,[0,1,4,8,13,1...| 28.52760736196319| 17.13837650872593|\n",
      "|(38,[0,1,4,8,13,1...|             31.75|  27.2372289149201|\n",
      "|(38,[0,1,4,8,13,1...|30.858024691358022|27.321100605619485|\n",
      "|(38,[0,1,4,9,11,1...|16.556756756756755|24.045813658698425|\n",
      "|(38,[0,1,5,7,10,1...|            21.875|26.020973450269928|\n",
      "|(38,[0,1,5,7,10,1...| 25.15337423312884| 27.26966371366701|\n",
      "|(38,[0,1,5,7,10,1...|13.503205128205128| 21.90476999470435|\n",
      "+--------------------+------------------+------------------+\n",
      "only showing top 20 rows\n",
      "\n"
     ]
    }
   ],
   "source": [
    "predictions.show()"
   ]
  },
  {
   "cell_type": "code",
   "execution_count": 105,
   "metadata": {},
   "outputs": [
    {
     "data": {
      "text/plain": [
       "4.005118884415921"
      ]
     },
     "execution_count": 105,
     "metadata": {},
     "output_type": "execute_result"
    }
   ],
   "source": [
    "evaluator = RegressionEvaluator(\n",
    "    labelCol=\"bmi\", predictionCol=\"prediction\", metricName=\"mae\")\n",
    "mae = evaluator.evaluate(predictions)\n",
    "mae"
   ]
  },
  {
   "cell_type": "markdown",
   "metadata": {},
   "source": []
  },
  {
   "cell_type": "code",
   "execution_count": 104,
   "metadata": {},
   "outputs": [
    {
     "data": {
      "text/plain": [
       "4.005118884415921"
      ]
     },
     "execution_count": 104,
     "metadata": {},
     "output_type": "execute_result"
    }
   ],
   "source": []
  },
  {
   "cell_type": "code",
   "execution_count": null,
   "metadata": {},
   "outputs": [],
   "source": []
  }
 ],
 "metadata": {
  "kernelspec": {
   "display_name": "Python 3",
   "language": "python",
   "name": "python3"
  },
  "language_info": {
   "codemirror_mode": {
    "name": "ipython",
    "version": 3
   },
   "file_extension": ".py",
   "mimetype": "text/x-python",
   "name": "python",
   "nbconvert_exporter": "python",
   "pygments_lexer": "ipython3",
   "version": "3.8.3"
  }
 },
 "nbformat": 4,
 "nbformat_minor": 4
}
